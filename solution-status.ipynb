{
  "nbformat": 4,
  "nbformat_minor": 0,
  "metadata": {
    "colab": {
      "name": "Untitled0.ipynb",
      "provenance": [],
      "collapsed_sections": []
    },
    "kernelspec": {
      "name": "python3",
      "display_name": "Python 3"
    }
  },
  "cells": [
    {
      "cell_type": "code",
      "execution_count": 1,
      "metadata": {},
      "outputs": [],
      "source": [
        "import os\n",
        "import json\n",
        "import pandas as pd\n",
        "\n",
        "students = (\n",
        "  'alecsander.camilo',\n",
        "  'amarildo.melo',\n",
        "  'calixto.paulo',\n",
        "  'diedjon.souza',\n",
        "  'eduardo.porto',\n",
        "  'flavio.souza',\n",
        "  'italo.alves',\n",
        "  'jefferson.marcelo',\n",
        "  'joao.neto',\n",
        "  'lima.anderson',\n",
        "  'lucas.chagas',\n",
        "  'luciano.filho',\n",
        "  'manuel.lucena',\n",
        "  'micael.pinheiro',\n",
        "  'pedro.diniz',\n",
        "  'renata.albuquerque',\n",
        "  'sousa.felipe',\n",
        "  'viana.pedro',\n",
        "  'willma.tayanne'\n",
        ")\n",
        "\n",
        "categories = ('ecma', 'w3c')\n",
        "status = {}\n",
        "\n",
        "for student in students:\n",
        "  status[student] = {}\n",
        "  for category in categories:\n",
        "      problems = os.listdir(category)\n",
        "      problems.remove('.DS_Store')\n",
        "      for problem in problems:\n",
        "        path = f'{category}/{problem}/{student}'\n",
        "        status[student][problem] = os.path.isdir(path)\n",
        "\n",
        "df = pd.DataFrame(status)"
      ]
    },
    {
      "cell_type": "code",
      "execution_count": 2,
      "metadata": {},
      "outputs": [
        {
          "data": {
            "text/plain": "willma.tayanne        17\nmicael.pinheiro       15\nalecsander.camilo     15\nrenata.albuquerque    13\ncalixto.paulo         13\nmanuel.lucena         10\nlucas.chagas          10\neduardo.porto         10\nluciano.filho          9\nlima.anderson          9\npedro.diniz            7\njefferson.marcelo      7\namarildo.melo          7\nitalo.alves            4\nflavio.souza           3\ndiedjon.souza          3\nviana.pedro            1\njoao.neto              1\nsousa.felipe           0\ndtype: int64"
          },
          "execution_count": 2,
          "metadata": {},
          "output_type": "execute_result"
        }
      ],
      "source": [
        "df[df==True].count(axis=0).sort_values(ascending=False)"
      ]
    },
    {
      "cell_type": "code",
      "execution_count": 3,
      "metadata": {},
      "outputs": [
        {
          "data": {
            "text/plain": "bmi-simple                      0\narray-products-qtd              1\ntriangle-checker                1\nproducts-qtd                    1\nsum-all-numbers-in-array        1\narray-products                  1\nproducts                        1\nfibonacci-sequence              1\nfunction-prime-nth              2\nfunction-fibonacci-sequence     2\nfunction-triangle-checker       3\nfunction-prime                  3\narray-operations                3\nfunction-fibonacci-number       5\nfunction-factorial              9\narray-util                      9\nfunction-calc                  10\nfunction-area-of-circle        13\nbasic-harmonic-series          13\nfunction-sum                   14\nbasic-bmi                      14\nbasic-irrf                     14\nbasic-numbers-series           15\nbasic-hello                    18\ndtype: int64"
          },
          "execution_count": 3,
          "metadata": {},
          "output_type": "execute_result"
        }
      ],
      "source": [
        "df[df==True].count(axis=1).sort_values(ascending=True)"
      ]
    },
    {
      "cell_type": "code",
      "execution_count": 25,
      "metadata": {},
      "outputs": [
        {
          "name": "stdout",
          "output_type": "stream",
          "text": "130\n"
        }
      ],
      "source": [
        "print(df[df==True].count().sum())"
      ]
    }
  ]
}