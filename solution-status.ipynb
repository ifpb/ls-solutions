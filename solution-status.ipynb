{
  "nbformat": 4,
  "nbformat_minor": 0,
  "metadata": {
    "colab": {
      "name": "Untitled0.ipynb",
      "provenance": [],
      "collapsed_sections": []
    },
    "kernelspec": {
      "name": "python3",
      "display_name": "Python 3"
    }
  },
  "cells": [
    {
      "cell_type": "code",
      "execution_count": 3,
      "metadata": {},
      "outputs": [],
      "source": [
        "import os\n",
        "import json\n",
        "import pandas as pd\n",
        "\n",
        "students = (\n",
        "  'alecsander.camilo',\n",
        "  'amarildo.melo',\n",
        "  'ana.caldas',\n",
        "  'lima.anderson',\n",
        "  'diedjon.souza',\n",
        "  'sousa.felipe',\n",
        "  'flavio.souza',\n",
        "  'italo.alves',\n",
        "  'jefferson.marcelo',\n",
        "  'lucas.chagas',\n",
        "  'luciano.filho',\n",
        "  'manuel.lucena',\n",
        "  'micael.pinheiro',\n",
        "  'calixto.paulo',\n",
        "  'viana.pedro',\n",
        "  'pedro.diniz',\n",
        "  'renata.albuquerque',\n",
        "  'willma.tayanne'\n",
        ")\n",
        "\n",
        "categories = ('ecma', 'w3c')\n",
        "status = {}\n",
        "\n",
        "for student in students:\n",
        "  status[student] = {}\n",
        "  for category in categories:\n",
        "      problems = os.listdir(category)\n",
        "      problems.remove('.DS_Store')\n",
        "      for problem in problems:\n",
        "        path = f'{category}/{problem}/{student}'\n",
        "        status[student][problem] = os.path.isdir(path)\n",
        "\n",
        "df = pd.DataFrame(status)"
      ]
    },
    {
      "cell_type": "code",
      "execution_count": 4,
      "metadata": {},
      "outputs": [
        {
          "data": {
            "text/plain": "alecsander.camilo     12\nmicael.pinheiro       10\ncalixto.paulo         10\nrenata.albuquerque     9\nluciano.filho          9\nwillma.tayanne         9\nlima.anderson          8\nlucas.chagas           7\namarildo.melo          7\nitalo.alves            5\npedro.diniz            4\nflavio.souza           3\nviana.pedro            1\ndiedjon.souza          1\njefferson.marcelo      1\nmanuel.lucena          0\nsousa.felipe           0\nana.caldas             0\ndtype: int64"
          },
          "execution_count": 4,
          "metadata": {},
          "output_type": "execute_result"
        }
      ],
      "source": [
        "df[df==True].count(axis=0).sort_values(ascending=False)"
      ]
    },
    {
      "cell_type": "code",
      "execution_count": 6,
      "metadata": {},
      "outputs": [
        {
          "data": {
            "text/plain": "bmi-simple                      0\nfunction-fibonacci-sequence     1\nfunction-fatorial               1\nfunction-triangle-checker       1\narray-util                      1\nfunction-fibonacci-number       3\nbasic-numbers                   3\nfunction-factorial              5\nfunction-calc                   7\nfunction-area-of-circle         8\nfunction-sum                    9\nbasic-numbers-series            9\nbasic-harmonic-series          10\nbasic-irrf                     11\nbasic-bmi                      12\nbasic-hello                    15\ndtype: int64"
          },
          "execution_count": 6,
          "metadata": {},
          "output_type": "execute_result"
        }
      ],
      "source": [
        "df[df==True].count(axis=1).sort_values(ascending=True)"
      ]
    },
    {
      "cell_type": "code",
      "execution_count": 7,
      "metadata": {},
      "outputs": [
        {
          "name": "stdout",
          "output_type": "stream",
          "text": "96\n"
        }
      ],
      "source": [
        "print(df[df==True].count().sum())"
      ]
    }
  ]
}