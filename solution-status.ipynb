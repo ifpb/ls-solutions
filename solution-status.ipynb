{
  "nbformat": 4,
  "nbformat_minor": 0,
  "metadata": {
    "colab": {
      "name": "Untitled0.ipynb",
      "provenance": [],
      "collapsed_sections": []
    },
    "kernelspec": {
      "name": "python3",
      "display_name": "Python 3"
    }
  },
  "cells": [
    {
      "cell_type": "code",
      "execution_count": 22,
      "metadata": {},
      "outputs": [],
      "source": [
        "import os\n",
        "import json\n",
        "import pandas as pd\n",
        "\n",
        "students = (\n",
        "  'alecsander.camilo',\n",
        "  'amarildo.melo',\n",
        "  'calixto.paulo',\n",
        "  'diedjon.souza',\n",
        "  'eduardo.porto',\n",
        "  'flavio.souza',\n",
        "  'italo.alves',\n",
        "  'jefferson.marcelo',\n",
        "  'joao.neto',\n",
        "  'lima.anderson',\n",
        "  'lucas.chagas',\n",
        "  'luciano.filho',\n",
        "  'manuel.lucena',\n",
        "  'micael.pinheiro',\n",
        "  'pedro.diniz',\n",
        "  'renata.albuquerque',\n",
        "  'sousa.felipe',\n",
        "  'viana.pedro',\n",
        "  'willma.tayanne'\n",
        ")\n",
        "\n",
        "categories = ('ecma', 'w3c')\n",
        "status = {}\n",
        "\n",
        "for student in students:\n",
        "  status[student] = {}\n",
        "  for category in categories:\n",
        "      problems = os.listdir(category)\n",
        "      problems.remove('.DS_Store')\n",
        "      for problem in problems:\n",
        "        path = f'{category}/{problem}/{student}'\n",
        "        status[student][problem] = os.path.isdir(path)\n",
        "\n",
        "df = pd.DataFrame(status)"
      ]
    },
    {
      "cell_type": "code",
      "execution_count": 23,
      "metadata": {},
      "outputs": [
        {
          "data": {
            "text/plain": "alecsander.camilo     15\nmicael.pinheiro       14\ncalixto.paulo         11\nwillma.tayanne        11\nrenata.albuquerque    10\nmanuel.lucena         10\nluciano.filho          9\nlima.anderson          9\npedro.diniz            7\nlucas.chagas           7\njefferson.marcelo      7\namarildo.melo          7\nitalo.alves            5\nflavio.souza           3\neduardo.porto          2\nviana.pedro            1\njoao.neto              1\ndiedjon.souza          1\nsousa.felipe           0\ndtype: int64"
          },
          "execution_count": 23,
          "metadata": {},
          "output_type": "execute_result"
        }
      ],
      "source": [
        "df[df==True].count(axis=0).sort_values(ascending=False)"
      ]
    },
    {
      "cell_type": "code",
      "execution_count": 24,
      "metadata": {},
      "outputs": [
        {
          "data": {
            "text/plain": "bmi-simple                      0\nfunction-fibonacci-sequence     2\nfunction-prime                  2\nfunction-prime-nth              2\nfunction-triangle-checker       2\nfunction-fibonacci-number       5\narray-util                      6\nfunction-calc                   8\nfunction-factorial              8\nfunction-area-of-circle        11\nfunction-sum                   12\nbasic-harmonic-series          13\nbasic-irrf                     13\nbasic-bmi                      14\nbasic-numbers-series           14\nbasic-hello                    18\ndtype: int64"
          },
          "execution_count": 24,
          "metadata": {},
          "output_type": "execute_result"
        }
      ],
      "source": [
        "df[df==True].count(axis=1).sort_values(ascending=True)"
      ]
    },
    {
      "cell_type": "code",
      "execution_count": 25,
      "metadata": {},
      "outputs": [
        {
          "name": "stdout",
          "output_type": "stream",
          "text": "130\n"
        }
      ],
      "source": [
        "print(df[df==True].count().sum())"
      ]
    }
  ]
}